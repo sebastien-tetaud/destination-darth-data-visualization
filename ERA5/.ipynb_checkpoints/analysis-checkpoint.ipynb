{
 "cells": [
  {
   "cell_type": "markdown",
   "id": "33aea8dc",
   "metadata": {},
   "source": []
  },
  {
   "cell_type": "markdown",
   "id": "75985485",
   "metadata": {},
   "source": [
    "## Benchmark Analysis "
   ]
  },
  {
   "cell_type": "code",
   "execution_count": 1,
   "id": "5db02c98",
   "metadata": {},
   "outputs": [],
   "source": [
    "import pandas as pd\n",
    "import matplotlib.pyplot as plt\n",
    "import numpy as np"
   ]
  },
  {
   "cell_type": "markdown",
   "id": "2e67e41d",
   "metadata": {},
   "source": [
    "### Read benchmark results from all ERA5 data provider"
   ]
  },
  {
   "cell_type": "code",
   "execution_count": 2,
   "id": "1282a11e",
   "metadata": {},
   "outputs": [
    {
     "data": {
      "text/html": [
       "<div>\n",
       "<style scoped>\n",
       "    .dataframe tbody tr th:only-of-type {\n",
       "        vertical-align: middle;\n",
       "    }\n",
       "\n",
       "    .dataframe tbody tr th {\n",
       "        vertical-align: top;\n",
       "    }\n",
       "\n",
       "    .dataframe thead th {\n",
       "        text-align: right;\n",
       "    }\n",
       "</style>\n",
       "<table border=\"1\" class=\"dataframe\">\n",
       "  <thead>\n",
       "    <tr style=\"text-align: right;\">\n",
       "      <th></th>\n",
       "      <th>download_time</th>\n",
       "      <th>data_processing</th>\n",
       "      <th>animation</th>\n",
       "      <th>end_to_end</th>\n",
       "      <th>request_issues</th>\n",
       "      <th>provider</th>\n",
       "      <th>end_to_end_std</th>\n",
       "    </tr>\n",
       "  </thead>\n",
       "  <tbody>\n",
       "    <tr>\n",
       "      <th>0</th>\n",
       "      <td>5.693968</td>\n",
       "      <td>1.148738</td>\n",
       "      <td>48.248924</td>\n",
       "      <td>55.091630</td>\n",
       "      <td>0</td>\n",
       "      <td>CDS</td>\n",
       "      <td>3.596953</td>\n",
       "    </tr>\n",
       "    <tr>\n",
       "      <th>1</th>\n",
       "      <td>11.727996</td>\n",
       "      <td>0.586247</td>\n",
       "      <td>48.105650</td>\n",
       "      <td>60.419893</td>\n",
       "      <td>0</td>\n",
       "      <td>CDS</td>\n",
       "      <td>3.596953</td>\n",
       "    </tr>\n",
       "    <tr>\n",
       "      <th>2</th>\n",
       "      <td>7.968933</td>\n",
       "      <td>0.590240</td>\n",
       "      <td>48.358934</td>\n",
       "      <td>56.918106</td>\n",
       "      <td>0</td>\n",
       "      <td>CDS</td>\n",
       "      <td>3.596953</td>\n",
       "    </tr>\n",
       "    <tr>\n",
       "      <th>3</th>\n",
       "      <td>5.959615</td>\n",
       "      <td>0.588420</td>\n",
       "      <td>48.224382</td>\n",
       "      <td>54.772417</td>\n",
       "      <td>0</td>\n",
       "      <td>CDS</td>\n",
       "      <td>3.596953</td>\n",
       "    </tr>\n",
       "    <tr>\n",
       "      <th>4</th>\n",
       "      <td>6.822927</td>\n",
       "      <td>0.591347</td>\n",
       "      <td>47.614859</td>\n",
       "      <td>55.029133</td>\n",
       "      <td>0</td>\n",
       "      <td>CDS</td>\n",
       "      <td>3.596953</td>\n",
       "    </tr>\n",
       "    <tr>\n",
       "      <th>5</th>\n",
       "      <td>8.922319</td>\n",
       "      <td>0.592983</td>\n",
       "      <td>47.736456</td>\n",
       "      <td>57.251758</td>\n",
       "      <td>0</td>\n",
       "      <td>CDS</td>\n",
       "      <td>3.596953</td>\n",
       "    </tr>\n",
       "    <tr>\n",
       "      <th>6</th>\n",
       "      <td>11.363349</td>\n",
       "      <td>0.597504</td>\n",
       "      <td>48.122834</td>\n",
       "      <td>60.083688</td>\n",
       "      <td>0</td>\n",
       "      <td>CDS</td>\n",
       "      <td>3.596953</td>\n",
       "    </tr>\n",
       "    <tr>\n",
       "      <th>7</th>\n",
       "      <td>18.136941</td>\n",
       "      <td>0.614610</td>\n",
       "      <td>47.866174</td>\n",
       "      <td>66.617725</td>\n",
       "      <td>0</td>\n",
       "      <td>CDS</td>\n",
       "      <td>3.596953</td>\n",
       "    </tr>\n",
       "    <tr>\n",
       "      <th>8</th>\n",
       "      <td>10.632106</td>\n",
       "      <td>0.771182</td>\n",
       "      <td>48.400382</td>\n",
       "      <td>59.803670</td>\n",
       "      <td>0</td>\n",
       "      <td>CDS</td>\n",
       "      <td>3.596953</td>\n",
       "    </tr>\n",
       "    <tr>\n",
       "      <th>9</th>\n",
       "      <td>8.827003</td>\n",
       "      <td>0.605006</td>\n",
       "      <td>47.925130</td>\n",
       "      <td>57.357139</td>\n",
       "      <td>0</td>\n",
       "      <td>CDS</td>\n",
       "      <td>3.596953</td>\n",
       "    </tr>\n",
       "    <tr>\n",
       "      <th>0</th>\n",
       "      <td>45.882125</td>\n",
       "      <td>0.079245</td>\n",
       "      <td>48.577956</td>\n",
       "      <td>94.539326</td>\n",
       "      <td>0</td>\n",
       "      <td>Google</td>\n",
       "      <td>1.086373</td>\n",
       "    </tr>\n",
       "    <tr>\n",
       "      <th>1</th>\n",
       "      <td>42.985330</td>\n",
       "      <td>0.085830</td>\n",
       "      <td>48.060679</td>\n",
       "      <td>91.131840</td>\n",
       "      <td>0</td>\n",
       "      <td>Google</td>\n",
       "      <td>1.086373</td>\n",
       "    </tr>\n",
       "    <tr>\n",
       "      <th>2</th>\n",
       "      <td>42.912244</td>\n",
       "      <td>0.072206</td>\n",
       "      <td>47.909674</td>\n",
       "      <td>90.894124</td>\n",
       "      <td>0</td>\n",
       "      <td>Google</td>\n",
       "      <td>1.086373</td>\n",
       "    </tr>\n",
       "    <tr>\n",
       "      <th>3</th>\n",
       "      <td>43.066929</td>\n",
       "      <td>0.073068</td>\n",
       "      <td>48.016425</td>\n",
       "      <td>91.156422</td>\n",
       "      <td>0</td>\n",
       "      <td>Google</td>\n",
       "      <td>1.086373</td>\n",
       "    </tr>\n",
       "    <tr>\n",
       "      <th>4</th>\n",
       "      <td>42.915344</td>\n",
       "      <td>0.072753</td>\n",
       "      <td>47.888501</td>\n",
       "      <td>90.876598</td>\n",
       "      <td>0</td>\n",
       "      <td>Google</td>\n",
       "      <td>1.086373</td>\n",
       "    </tr>\n",
       "    <tr>\n",
       "      <th>5</th>\n",
       "      <td>43.382383</td>\n",
       "      <td>0.074292</td>\n",
       "      <td>48.179813</td>\n",
       "      <td>91.636487</td>\n",
       "      <td>0</td>\n",
       "      <td>Google</td>\n",
       "      <td>1.086373</td>\n",
       "    </tr>\n",
       "    <tr>\n",
       "      <th>6</th>\n",
       "      <td>43.454160</td>\n",
       "      <td>0.072719</td>\n",
       "      <td>47.730397</td>\n",
       "      <td>91.257276</td>\n",
       "      <td>0</td>\n",
       "      <td>Google</td>\n",
       "      <td>1.086373</td>\n",
       "    </tr>\n",
       "    <tr>\n",
       "      <th>7</th>\n",
       "      <td>43.376439</td>\n",
       "      <td>0.073251</td>\n",
       "      <td>47.522921</td>\n",
       "      <td>90.972611</td>\n",
       "      <td>0</td>\n",
       "      <td>Google</td>\n",
       "      <td>1.086373</td>\n",
       "    </tr>\n",
       "    <tr>\n",
       "      <th>8</th>\n",
       "      <td>43.484734</td>\n",
       "      <td>0.076636</td>\n",
       "      <td>48.221781</td>\n",
       "      <td>91.783152</td>\n",
       "      <td>0</td>\n",
       "      <td>Google</td>\n",
       "      <td>1.086373</td>\n",
       "    </tr>\n",
       "    <tr>\n",
       "      <th>9</th>\n",
       "      <td>43.505283</td>\n",
       "      <td>0.075034</td>\n",
       "      <td>48.041261</td>\n",
       "      <td>91.621578</td>\n",
       "      <td>0</td>\n",
       "      <td>Google</td>\n",
       "      <td>1.086373</td>\n",
       "    </tr>\n",
       "    <tr>\n",
       "      <th>0</th>\n",
       "      <td>46.536613</td>\n",
       "      <td>0.076785</td>\n",
       "      <td>47.859440</td>\n",
       "      <td>94.472837</td>\n",
       "      <td>0</td>\n",
       "      <td>microsoft</td>\n",
       "      <td>3.150244</td>\n",
       "    </tr>\n",
       "    <tr>\n",
       "      <th>1</th>\n",
       "      <td>41.356699</td>\n",
       "      <td>0.074152</td>\n",
       "      <td>47.671058</td>\n",
       "      <td>89.101909</td>\n",
       "      <td>0</td>\n",
       "      <td>microsoft</td>\n",
       "      <td>3.150244</td>\n",
       "    </tr>\n",
       "    <tr>\n",
       "      <th>2</th>\n",
       "      <td>47.502602</td>\n",
       "      <td>0.071272</td>\n",
       "      <td>47.819040</td>\n",
       "      <td>95.392915</td>\n",
       "      <td>0</td>\n",
       "      <td>microsoft</td>\n",
       "      <td>3.150244</td>\n",
       "    </tr>\n",
       "    <tr>\n",
       "      <th>3</th>\n",
       "      <td>44.044697</td>\n",
       "      <td>0.072759</td>\n",
       "      <td>47.750433</td>\n",
       "      <td>91.867889</td>\n",
       "      <td>0</td>\n",
       "      <td>microsoft</td>\n",
       "      <td>3.150244</td>\n",
       "    </tr>\n",
       "    <tr>\n",
       "      <th>4</th>\n",
       "      <td>42.380598</td>\n",
       "      <td>0.072680</td>\n",
       "      <td>47.701924</td>\n",
       "      <td>90.155202</td>\n",
       "      <td>0</td>\n",
       "      <td>microsoft</td>\n",
       "      <td>3.150244</td>\n",
       "    </tr>\n",
       "    <tr>\n",
       "      <th>5</th>\n",
       "      <td>37.951436</td>\n",
       "      <td>0.073365</td>\n",
       "      <td>47.730474</td>\n",
       "      <td>85.755274</td>\n",
       "      <td>0</td>\n",
       "      <td>microsoft</td>\n",
       "      <td>3.150244</td>\n",
       "    </tr>\n",
       "    <tr>\n",
       "      <th>6</th>\n",
       "      <td>40.977631</td>\n",
       "      <td>0.080483</td>\n",
       "      <td>47.987897</td>\n",
       "      <td>89.046011</td>\n",
       "      <td>0</td>\n",
       "      <td>microsoft</td>\n",
       "      <td>3.150244</td>\n",
       "    </tr>\n",
       "    <tr>\n",
       "      <th>7</th>\n",
       "      <td>41.560648</td>\n",
       "      <td>0.071414</td>\n",
       "      <td>47.614034</td>\n",
       "      <td>89.246095</td>\n",
       "      <td>0</td>\n",
       "      <td>microsoft</td>\n",
       "      <td>3.150244</td>\n",
       "    </tr>\n",
       "    <tr>\n",
       "      <th>8</th>\n",
       "      <td>41.837429</td>\n",
       "      <td>0.073490</td>\n",
       "      <td>47.800848</td>\n",
       "      <td>89.711766</td>\n",
       "      <td>0</td>\n",
       "      <td>microsoft</td>\n",
       "      <td>3.150244</td>\n",
       "    </tr>\n",
       "    <tr>\n",
       "      <th>9</th>\n",
       "      <td>38.024216</td>\n",
       "      <td>0.074865</td>\n",
       "      <td>47.854060</td>\n",
       "      <td>85.953142</td>\n",
       "      <td>0</td>\n",
       "      <td>microsoft</td>\n",
       "      <td>3.150244</td>\n",
       "    </tr>\n",
       "  </tbody>\n",
       "</table>\n",
       "</div>"
      ],
      "text/plain": [
       "   download_time  data_processing  animation  end_to_end  request_issues  \\\n",
       "0       5.693968         1.148738  48.248924   55.091630               0   \n",
       "1      11.727996         0.586247  48.105650   60.419893               0   \n",
       "2       7.968933         0.590240  48.358934   56.918106               0   \n",
       "3       5.959615         0.588420  48.224382   54.772417               0   \n",
       "4       6.822927         0.591347  47.614859   55.029133               0   \n",
       "5       8.922319         0.592983  47.736456   57.251758               0   \n",
       "6      11.363349         0.597504  48.122834   60.083688               0   \n",
       "7      18.136941         0.614610  47.866174   66.617725               0   \n",
       "8      10.632106         0.771182  48.400382   59.803670               0   \n",
       "9       8.827003         0.605006  47.925130   57.357139               0   \n",
       "0      45.882125         0.079245  48.577956   94.539326               0   \n",
       "1      42.985330         0.085830  48.060679   91.131840               0   \n",
       "2      42.912244         0.072206  47.909674   90.894124               0   \n",
       "3      43.066929         0.073068  48.016425   91.156422               0   \n",
       "4      42.915344         0.072753  47.888501   90.876598               0   \n",
       "5      43.382383         0.074292  48.179813   91.636487               0   \n",
       "6      43.454160         0.072719  47.730397   91.257276               0   \n",
       "7      43.376439         0.073251  47.522921   90.972611               0   \n",
       "8      43.484734         0.076636  48.221781   91.783152               0   \n",
       "9      43.505283         0.075034  48.041261   91.621578               0   \n",
       "0      46.536613         0.076785  47.859440   94.472837               0   \n",
       "1      41.356699         0.074152  47.671058   89.101909               0   \n",
       "2      47.502602         0.071272  47.819040   95.392915               0   \n",
       "3      44.044697         0.072759  47.750433   91.867889               0   \n",
       "4      42.380598         0.072680  47.701924   90.155202               0   \n",
       "5      37.951436         0.073365  47.730474   85.755274               0   \n",
       "6      40.977631         0.080483  47.987897   89.046011               0   \n",
       "7      41.560648         0.071414  47.614034   89.246095               0   \n",
       "8      41.837429         0.073490  47.800848   89.711766               0   \n",
       "9      38.024216         0.074865  47.854060   85.953142               0   \n",
       "\n",
       "    provider  end_to_end_std  \n",
       "0        CDS        3.596953  \n",
       "1        CDS        3.596953  \n",
       "2        CDS        3.596953  \n",
       "3        CDS        3.596953  \n",
       "4        CDS        3.596953  \n",
       "5        CDS        3.596953  \n",
       "6        CDS        3.596953  \n",
       "7        CDS        3.596953  \n",
       "8        CDS        3.596953  \n",
       "9        CDS        3.596953  \n",
       "0     Google        1.086373  \n",
       "1     Google        1.086373  \n",
       "2     Google        1.086373  \n",
       "3     Google        1.086373  \n",
       "4     Google        1.086373  \n",
       "5     Google        1.086373  \n",
       "6     Google        1.086373  \n",
       "7     Google        1.086373  \n",
       "8     Google        1.086373  \n",
       "9     Google        1.086373  \n",
       "0  microsoft        3.150244  \n",
       "1  microsoft        3.150244  \n",
       "2  microsoft        3.150244  \n",
       "3  microsoft        3.150244  \n",
       "4  microsoft        3.150244  \n",
       "5  microsoft        3.150244  \n",
       "6  microsoft        3.150244  \n",
       "7  microsoft        3.150244  \n",
       "8  microsoft        3.150244  \n",
       "9  microsoft        3.150244  "
      ]
     },
     "execution_count": 2,
     "metadata": {},
     "output_type": "execute_result"
    }
   ],
   "source": [
    "df_cds = pd.read_json(\"cds/cds_benchmark.json\")\n",
    "df_cds[\"provider\"] = \"CDS\"\n",
    "df_cds[\"end_to_end_std\"] = df_cds[\"end_to_end\"].std()\n",
    "df_gcp = pd.read_json(\"gcp/gcp_benchmark.json\")\n",
    "df_gcp[\"end_to_end_std\"] = df_gcp[\"end_to_end\"].std()\n",
    "df_gcp[\"provider\"] = \"Google\"\n",
    "df_m = pd.read_json(\"microsoft/gcp_benchmark.json\")\n",
    "df_m[\"end_to_end_std\"] = df_m[\"end_to_end\"].std()\n",
    "df_m[\"provider\"] = \"microsoft\"\n",
    "df = pd.concat([df_cds, df_gcp, df_m ], axis=0)\n",
    "df"
   ]
  },
  {
   "cell_type": "markdown",
   "id": "668a125a",
   "metadata": {},
   "source": [
    "Compute the mean value for each data provider"
   ]
  },
  {
   "cell_type": "code",
   "execution_count": 3,
   "id": "827e70f6",
   "metadata": {},
   "outputs": [
    {
     "data": {
      "text/html": [
       "<div>\n",
       "<style scoped>\n",
       "    .dataframe tbody tr th:only-of-type {\n",
       "        vertical-align: middle;\n",
       "    }\n",
       "\n",
       "    .dataframe tbody tr th {\n",
       "        vertical-align: top;\n",
       "    }\n",
       "\n",
       "    .dataframe thead th {\n",
       "        text-align: right;\n",
       "    }\n",
       "</style>\n",
       "<table border=\"1\" class=\"dataframe\">\n",
       "  <thead>\n",
       "    <tr style=\"text-align: right;\">\n",
       "      <th></th>\n",
       "      <th>provider</th>\n",
       "      <th>download_time</th>\n",
       "      <th>data_processing</th>\n",
       "      <th>animation</th>\n",
       "      <th>end_to_end</th>\n",
       "      <th>request_issues</th>\n",
       "      <th>end_to_end_std</th>\n",
       "    </tr>\n",
       "  </thead>\n",
       "  <tbody>\n",
       "    <tr>\n",
       "      <th>0</th>\n",
       "      <td>CDS</td>\n",
       "      <td>9.605516</td>\n",
       "      <td>0.668628</td>\n",
       "      <td>48.060372</td>\n",
       "      <td>58.334516</td>\n",
       "      <td>0.0</td>\n",
       "      <td>3.596953</td>\n",
       "    </tr>\n",
       "    <tr>\n",
       "      <th>1</th>\n",
       "      <td>Google</td>\n",
       "      <td>43.496497</td>\n",
       "      <td>0.075503</td>\n",
       "      <td>48.014941</td>\n",
       "      <td>91.586941</td>\n",
       "      <td>0.0</td>\n",
       "      <td>1.086373</td>\n",
       "    </tr>\n",
       "    <tr>\n",
       "      <th>2</th>\n",
       "      <td>microsoft</td>\n",
       "      <td>42.217257</td>\n",
       "      <td>0.074126</td>\n",
       "      <td>47.778921</td>\n",
       "      <td>90.070304</td>\n",
       "      <td>0.0</td>\n",
       "      <td>3.150244</td>\n",
       "    </tr>\n",
       "  </tbody>\n",
       "</table>\n",
       "</div>"
      ],
      "text/plain": [
       "    provider  download_time  data_processing  animation  end_to_end  \\\n",
       "0        CDS       9.605516         0.668628  48.060372   58.334516   \n",
       "1     Google      43.496497         0.075503  48.014941   91.586941   \n",
       "2  microsoft      42.217257         0.074126  47.778921   90.070304   \n",
       "\n",
       "   request_issues  end_to_end_std  \n",
       "0             0.0        3.596953  \n",
       "1             0.0        1.086373  \n",
       "2             0.0        3.150244  "
      ]
     },
     "execution_count": 3,
     "metadata": {},
     "output_type": "execute_result"
    }
   ],
   "source": [
    "df = df.groupby('provider').mean().reset_index()\n",
    "df"
   ]
  },
  {
   "cell_type": "markdown",
   "id": "37ff3f7a",
   "metadata": {},
   "source": [
    "## Plot data provider benchnark result\n",
    "\n",
    "Parameters of the benchmark\n",
    "- start: 2020-05-01T00\n",
    "- end: 2020-05-31T00\n",
    "- frequence: \"D\"\n",
    "- variables: [\"10m_u_component_of_wind\",\"10m_v_component_of_wind\"]"
   ]
  },
  {
   "cell_type": "code",
   "execution_count": 4,
   "id": "75ab3f72",
   "metadata": {},
   "outputs": [
    {
     "data": {
      "image/png": "[encoded data removed]",
      "text/plain": [
       "<Figure size 1600x800 with 1 Axes>"
      ]
     },
     "metadata": {},
     "output_type": "display_data"
    }
   ],
   "source": [
    "errors = df['end_to_end_std']\n",
    "# Plotting the stacked bar chart without 'end_to_end'\n",
    "df_plot = df.drop(columns=['end_to_end', 'end_to_end_std'])\n",
    "df_plot.plot(kind='bar', stacked=True, figsize=(16, 8))\n",
    "\n",
    "# Overlay 'end_to_end' with error bars\n",
    "x = np.arange(len(df))\n",
    "plt.errorbar(x, df['end_to_end'], yerr=errors, fmt='o', color='black', capsize=5)\n",
    "\n",
    "# Set labels and title\n",
    "plt.ylabel('Time (seconds)')\n",
    "plt.title('End to End ERA5 single level benchmark')\n",
    "plt.xlabel(\"Provider\")\n",
    "\n",
    "# Adding city names as x-tick labels\n",
    "plt.xticks(x, df['provider'])\n",
    "\n",
    "# Display legend\n",
    "plt.legend(loc='upper right')\n",
    "\n",
    "# Save the figure\n",
    "plt.show()"
   ]
  },
  {
   "cell_type": "code",
   "execution_count": 17,
   "id": "cb35f384",
   "metadata": {},
   "outputs": [
    {
     "data": {
      "image/png": "[encoded data removed]",
      "text/plain": [
       "<Figure size 1600x800 with 1 Axes>"
      ]
     },
     "metadata": {},
     "output_type": "display_data"
    }
   ],
   "source": [
    "# Plotting the stacked bar chart without 'end_to_end'\n",
    "df_plot = df.drop(columns=['end_to_end', 'end_to_end_std',\"animation\"])\n",
    "df_plot.plot(kind='bar', stacked=True, figsize=(16, 8))\n",
    "# Set labels and title\n",
    "plt.ylabel('Time (seconds)')\n",
    "plt.title('End to End ERA5 single level benchmark')\n",
    "plt.xlabel(\"Provider\")\n",
    "# Adding city names as x-tick labels\n",
    "plt.xticks(x, df['provider'])\n",
    "# Display legend\n",
    "plt.legend(loc='upper right')\n",
    "# Save the figure\n",
    "plt.show()"
   ]
  },
  {
   "cell_type": "markdown",
   "id": "86ebe157",
   "metadata": {},
   "source": [
    "- The Download is faster than the CDS maybe due to the location of the CDS server.\n",
    "- Animation is the same for the 3 providers since the input are identique\n",
    "- Data processing is slower for the CDS provider because the data need to be read with Xarray which is not the case with Google and Microsoft. The dataset is directly saved in the memory."
   ]
  },
  {
   "cell_type": "markdown",
   "id": "39f1b8fb",
   "metadata": {},
   "source": [
    "## Size verification and data shape"
   ]
  },
  {
   "cell_type": "code",
   "execution_count": 5,
   "id": "692970a0",
   "metadata": {},
   "outputs": [],
   "source": [
    "from utils import (load_config, PlanetaryComputerERA5,\n",
    "                    CdsERA5, GcpERA5, WindSpeedVisualizer)\n",
    "import time"
   ]
  },
  {
   "cell_type": "code",
   "execution_count": 6,
   "id": "3c1ea63c",
   "metadata": {},
   "outputs": [],
   "source": [
    "config = load_config(\"config.yaml\")"
   ]
  },
  {
   "cell_type": "markdown",
   "id": "ed874377",
   "metadata": {},
   "source": [
    "###"
   ]
  },
  {
   "cell_type": "code",
   "execution_count": 7,
   "id": "b83d5c48",
   "metadata": {},
   "outputs": [
    {
     "name": "stderr",
     "output_type": "stream",
     "text": [
      "\u001b[32m2024-06-14 13:51:34.161\u001b[0m | \u001b[1mINFO    \u001b[0m | \u001b[36mutils\u001b[0m:\u001b[36m__init__\u001b[0m:\u001b[36m133\u001b[0m - \u001b[1mSuccessfully log to Climate Data Store\u001b[0m\n",
      "2024-06-14 13:51:34,291 INFO Welcome to the CDS\n",
      "2024-06-14 13:51:34,292 INFO Sending request to https://cds.climate.copernicus.eu/api/v2/resources/reanalysis-era5-single-levels\n",
      "2024-06-14 13:51:34,358 INFO Request is completed\n",
      "2024-06-14 13:51:34,359 INFO Downloading https://download-0008-clone.copernicus-climate.eu/cache-compute-0008/cache/data4/adaptor.mars.internal-1718287969.5438614-24478-15-21ddc1aa-5151-42a4-8af1-d75e2568294e.grib to ERA5.grib (122.8M)\n",
      "2024-06-14 13:51:53,012 INFO Download rate 6.6M/s  \n",
      "Ignoring index file 'ERA5.grib.9093e.idx' older than GRIB file\n"
     ]
    },
    {
     "name": "stdout",
     "output_type": "stream",
     "text": [
      "End to End duration 68.22869157791138\n"
     ]
    }
   ],
   "source": [
    "query = config[\"cds_request\"]\n",
    "start = time.time()\n",
    "cds = CdsERA5()\n",
    "cds.get_data(query=query)\n",
    "cds.download(filename=\"ERA5\")\n",
    "wind_speed_cds, ds = cds.process()\n",
    "wind_anim_cds = WindSpeedVisualizer.generate_animation(wind_speed_cds)\n",
    "end = time.time()\n",
    "print(f\"End to End duration {end-start}\")"
   ]
  },
  {
   "cell_type": "code",
   "execution_count": 8,
   "id": "d218a707",
   "metadata": {},
   "outputs": [
    {
     "name": "stdout",
     "output_type": "stream",
     "text": [
      "End to End duration 68.22869157791138 seconds\n",
      "Shape of CDS dataset: Frozen({'time': 31, 'latitude': 721, 'longitude': 1440})\n",
      "CDS Dataset Size: 122.7777099609375 MB\n"
     ]
    }
   ],
   "source": [
    "print(f\"End to End duration {end-start} seconds\" )\n",
    "print(f\"Shape of CDS dataset: {wind_speed_cds.sizes}\")\n",
    "print(f\"CDS Dataset Size: {wind_speed_cds.nbytes / (1024*1024)} MB\")"
   ]
  },
  {
   "cell_type": "code",
   "execution_count": 9,
   "id": "6fb03ec1",
   "metadata": {},
   "outputs": [
    {
     "name": "stderr",
     "output_type": "stream",
     "text": [
      "\u001b[32m2024-06-14 13:52:44.186\u001b[0m | \u001b[1mINFO    \u001b[0m | \u001b[36mutils\u001b[0m:\u001b[36m__init__\u001b[0m:\u001b[36m180\u001b[0m - \u001b[1mERA5 reanalysis data loaded successfully from gs://gcp-public-data-arco-era5/ar/1959-2022-full_37-1h-0p25deg-chunk-1.zarr-v2\u001b[0m\n",
      "\u001b[32m2024-06-14 13:52:44.200\u001b[0m | \u001b[1mINFO    \u001b[0m | \u001b[36mutils\u001b[0m:\u001b[36mget_data\u001b[0m:\u001b[36m199\u001b[0m - \u001b[1mData slice selected for date range\u001b[0m\n",
      "\u001b[32m2024-06-14 13:53:27.267\u001b[0m | \u001b[1mINFO    \u001b[0m | \u001b[36mutils\u001b[0m:\u001b[36mcalculate_wind_speed\u001b[0m:\u001b[36m223\u001b[0m - \u001b[1mWind speed calculated successfully from regridded dataset\u001b[0m\n"
     ]
    }
   ],
   "source": [
    "query = config[\"gcp_request\"]\n",
    "url_dataset = query[\"url_dataset\"]\n",
    "start_date = query[\"start\"]\n",
    "end = query[\"end\"]\n",
    "frequence = query[\"frequence\"]\n",
    "variables = query[\"variables\"]\n",
    "start = time.time()\n",
    "gcp = GcpERA5(url_dataset)\n",
    "date_range = pd.date_range(start_date, end, freq=frequence)\n",
    "gcp.get_data(date_range=date_range, variables=variables)\n",
    "gcp.download()\n",
    "wind_speed_gcp, ds_gcp = gcp.calculate_wind_speed()\n",
    "wind_anim = WindSpeedVisualizer.generate_animation(wind_speed_gcp)\n",
    "end = time.time()"
   ]
  },
  {
   "cell_type": "code",
   "execution_count": 10,
   "id": "eeceb7ed",
   "metadata": {},
   "outputs": [
    {
     "name": "stdout",
     "output_type": "stream",
     "text": [
      "End to End duration 92.4226758480072\n",
      "Shape of GCP dataset: Frozen({'time': 31, 'latitude': 721, 'longitude': 1440})\n",
      "GCP Dataset Size: 122.7777099609375 MB\n"
     ]
    }
   ],
   "source": [
    "print(f\"End to End duration {end-start}\")\n",
    "print(f\"Shape of GCP dataset: {wind_speed_gcp.sizes}\")\n",
    "print(f\"GCP Dataset Size: {wind_speed_gcp.nbytes / (1024*1024)} MB\")"
   ]
  },
  {
   "cell_type": "markdown",
   "id": "3b69f211",
   "metadata": {},
   "source": [
    "### Microsoft"
   ]
  },
  {
   "cell_type": "code",
   "execution_count": 11,
   "id": "a02d29d0",
   "metadata": {},
   "outputs": [
    {
     "name": "stderr",
     "output_type": "stream",
     "text": [
      "\u001b[32m2024-06-14 13:54:15.001\u001b[0m | \u001b[1mINFO    \u001b[0m | \u001b[36mutils\u001b[0m:\u001b[36m__init__\u001b[0m:\u001b[36m245\u001b[0m - \u001b[1mAccess to ERA5 reanalysis successfully from https://planetarycomputer.microsoft.com/api/stac/v1/\u001b[0m\n",
      "/home/ubuntu/miniconda3/envs/myenv/lib/python3.12/site-packages/pystac_client/item_search.py:851: FutureWarning: get_all_items() is deprecated, use item_collection() instead.\n",
      "  warnings.warn(\n",
      "\u001b[32m2024-06-14 13:55:02.667\u001b[0m | \u001b[1mINFO    \u001b[0m | \u001b[36mutils\u001b[0m:\u001b[36mcalculate_wind_speed\u001b[0m:\u001b[36m285\u001b[0m - \u001b[1mWind speed calculated successfully from regridded dataset\u001b[0m\n"
     ]
    }
   ],
   "source": [
    "query = config[\"microsoft\"]\n",
    "url_dataset = query[\"url_dataset\"]\n",
    "start_date = query[\"start\"]\n",
    "end = query[\"end\"]\n",
    "frequence = query[\"frequence\"]\n",
    "variables = query[\"variables\"]\n",
    "start = time.time()\n",
    "pc = PlanetaryComputerERA5(url_dataset)\n",
    "date_range = pd.date_range(start_date, end, freq=frequence)\n",
    "variables=[\"northward_wind_at_10_metres\",\"eastward_wind_at_10_metres\"]\n",
    "pc.get_data(date_range=date_range, variables=variables)\n",
    "pc.download()\n",
    "wind_speed_pc, ds_pc = pc.calculate_wind_speed()\n",
    "wind_anim = WindSpeedVisualizer.generate_animation(wind_speed_pc)\n",
    "end = time.time()"
   ]
  },
  {
   "cell_type": "code",
   "execution_count": 12,
   "id": "f5c665c4",
   "metadata": {},
   "outputs": [
    {
     "name": "stdout",
     "output_type": "stream",
     "text": [
      "End to End duration 95.12623286247253\n",
      "Shape of Microsoft dataset: Frozen({'time': 31, 'lat': 721, 'lon': 1440})\n",
      "Microsoft Dataset Size: 122.7777099609375 MB\n"
     ]
    }
   ],
   "source": [
    "print(f\"End to End duration {end-start}\")\n",
    "print(f\"Shape of Microsoft dataset: {wind_speed_pc.sizes}\")\n",
    "print(f\"Microsoft Dataset Size: {wind_speed_pc.nbytes / (1024*1024)} MB\")"
   ]
  },
  {
   "cell_type": "code",
   "execution_count": 27,
   "id": "21fd0654",
   "metadata": {},
   "outputs": [
    {
     "name": "stderr",
     "output_type": "stream",
     "text": [
      "2024-06-14 15:51:40,247 INFO Welcome to the CDS\n",
      "2024-06-14 15:51:40,248 INFO Sending request to https://cds.climate.copernicus.eu/api/v2/resources/reanalysis-era5-pressure-levels\n"
     ]
    },
    {
     "name": "stderr",
     "output_type": "stream",
     "text": [
      "2024-06-14 15:51:40,343 INFO Request is completed\n"
     ]
    }
   ],
   "source": [
    "\n",
    "import cdsapi\n",
    "cds = cdsapi.Client()\n",
    "result = cds.retrieve('reanalysis-era5-pressure-levels', {\n",
    "           \"variable\": \"temperature\",\n",
    "           \"pressure_level\": \"1000\",\n",
    "           \"product_type\": \"reanalysis\",\n",
    "           \"date\": \"2017-12-01/2017-12-31\",\n",
    "           \"time\": \"12:00\",\n",
    "           \"format\": \"grib\"\n",
    "       })"
   ]
  },
  {
   "cell_type": "code",
   "execution_count": null,
   "id": "bc50ddef",
   "metadata": {},
   "outputs": [],
   "source": []
  }
 ],
 "metadata": {
  "kernelspec": {
   "display_name": "Python 3 (ipykernel)",
   "language": "python",
   "name": "python3"
  },
  "language_info": {
   "codemirror_mode": {
    "name": "ipython",
    "version": 3
   },
   "file_extension": ".py",
   "mimetype": "text/x-python",
   "name": "python",
   "nbconvert_exporter": "python",
   "pygments_lexer": "ipython3",
   "version": "3.12.3"
  }
 },
 "nbformat": 4,
 "nbformat_minor": 5
}
