{
 "cells": [
  {
   "cell_type": "code",
   "execution_count": null,
   "id": "7a0676b6",
   "metadata": {},
   "outputs": [],
   "source": [
    "from utils import load_config, CdsERA5, WindSpeedVisualizer"
   ]
  },
  {
   "cell_type": "code",
   "execution_count": null,
   "id": "8e490695",
   "metadata": {},
   "outputs": [],
   "source": [
    "config = load_config(\"config.yaml\")\n",
    "query = config[\"cds_request\"]"
   ]
  },
  {
   "cell_type": "code",
   "execution_count": null,
   "id": "921d8a09",
   "metadata": {},
   "outputs": [],
   "source": [
    "cds = CdsERA5()\n",
    "cds.get_data(query=query)\n",
    "cds.download(filename=\"ERA5\")\n",
    "wind_speed, ds = cds.process()"
   ]
  },
  {
   "cell_type": "code",
   "execution_count": null,
   "id": "d69c1a39",
   "metadata": {},
   "outputs": [],
   "source": [
    "wind_anim = WindSpeedVisualizer.plot_wind_speed(wind_speed.sel(time=wind_speed.time[0]))"
   ]
  },
  {
   "cell_type": "code",
   "execution_count": null,
   "id": "cef9e104",
   "metadata": {},
   "outputs": [],
   "source": [
    "wind_anim = WindSpeedVisualizer.generate_animation(wind_speed)"
   ]
  },
  {
   "cell_type": "code",
   "execution_count": null,
   "id": "669f6e7b",
   "metadata": {},
   "outputs": [],
   "source": [
    "wind_anim"
   ]
  }
 ],
 "metadata": {
  "kernelspec": {
   "display_name": "Python 3 (ipykernel)",
   "language": "python",
   "name": "python3"
  },
  "language_info": {
   "codemirror_mode": {
    "name": "ipython",
    "version": 3
   },
   "file_extension": ".py",
   "mimetype": "text/x-python",
   "name": "python",
   "nbconvert_exporter": "python",
   "pygments_lexer": "ipython3",
   "version": "3.12.3"
  }
 },
 "nbformat": 4,
 "nbformat_minor": 5
}
