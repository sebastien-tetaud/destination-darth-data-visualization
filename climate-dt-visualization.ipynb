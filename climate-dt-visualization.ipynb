{
 "cells": [
  {
   "cell_type": "markdown",
   "id": "2c23cd75",
   "metadata": {},
   "source": [
    "<table style=\"width:100%; border: none;\">\n",
    "    <tr>\n",
    "        <td colspan=\"3\" style=\"text-align:center; border: none;\">\n",
    "            <img src=\"assets/banner.svg\" alt=\"Banner Image\" style=\"width:100%;\">\n",
    "        </td>\n",
    "    </tr>\n",
    "    <!-- Add other rows and cells below if needed -->\n",
    "</table>\n"
   ]
  },
  {
   "cell_type": "markdown",
   "id": "5acb7e8e",
   "metadata": {},
   "source": [
    "This Notebook provides a complete workflow for downloading, processing, analyzing, and visualizing temperature data for various capital cities. Here's a step-by-step explanation of what each part of the code does:\n",
    "\n",
    "1. **Loading Configuration**: The function `load_capitals_coordinates` reads a YAML configuration file to get the coordinates (latitude and longitude) of different capital cities.\n",
    "\n",
    "2. **Downloading the Dataset**: The `get_cacheB_dataset` function downloads data from a specified Dataset URL. It uses the xarray library to handle the dataset efficiently.\n",
    "\n",
    "3. **Preprocessing the Data**: The `preprocess` function extracts temperature data for a specific city, averages it over desire period, converts the temperature from Kelvin to Celsius and load the data in the machine memory.\n",
    "\n",
    "4. **Basic Plotting**: The `basic_plot` function creates a simple line plot of the daily average temperature for a given city.\n",
    "\n",
    "5. **Training a Forecast Model**: The `train_model` function prepares the data and trains a forecasting model using the Prophet library. It splits the data into training and testing sets [80%-20%]and fits the model to the training data. For more information please checkout the following link: [Prophet](https://facebook.github.io/prophet/docs/quick_start.html)\n",
    "\n",
    "\n",
    "6. **Making Predictions**: The `make_predictions` function uses the trained model to make temperature predictions on the test data and calculates error metrics like Mean Absolute Error (MAE) and Root Mean Squared Error (RMSE).\n",
    "\n",
    "7. **Plotting Forecasts**: The `plot_forecast` function plots the training data, test data, and forecasted temperatures, allowing you to visually compare the model's predictions with the actual temperatures. It also provides options to display the plot and save it as an SVG file.\n",
    "\n"
   ]
  },
  {
   "cell_type": "code",
   "execution_count": null,
   "id": "0973e317",
   "metadata": {},
   "outputs": [],
   "source": [
    "from utils import (load_config, get_cacheB_dataset,\n",
    "                   basic_plot, make_predictions,\n",
    "                   plot_forecast, preprocess, train_model)\n",
    "import ipywidgets as widgets"
   ]
  },
  {
   "cell_type": "code",
   "execution_count": null,
   "id": "fedf4970",
   "metadata": {},
   "outputs": [],
   "source": [
    "config = load_config(file_path=\"config.yaml\")\n",
    "# Load capital coordinates from the YAML file\n",
    "capitals_coordinates = config[\"capital_coordinates\"]\n",
    "# Create and display the dropdown\n",
    "# Variable to store the selected coordinates\n",
    "def display_coordinates(city):\n",
    "\n",
    "    global selected_coordinates\n",
    "    global selected_city\n",
    "    selected_coordinates = capitals_coordinates[city]\n",
    "    selected_city = city\n",
    "    return selected_coordinates, selected_city\n",
    "\n",
    "# Create and display the dropdown\n",
    "widgets.interact(display_coordinates, city=sorted(list(capitals_coordinates.keys())))"
   ]
  },
  {
   "cell_type": "code",
   "execution_count": null,
   "id": "65485240",
   "metadata": {},
   "outputs": [],
   "source": [
    "URL_DATASET = config[\"cacheb_url\"]\n",
    "# Get destine climate dt data\n",
    "dataset = get_cacheB_dataset(url_dataset=URL_DATASET)\n",
    "df = preprocess(dataset, lat=selected_coordinates[0], lon=selected_coordinates[1], method=\"nearest\", resample_period=\"D\")"
   ]
  },
  {
   "cell_type": "markdown",
   "id": "99546b42",
   "metadata": {},
   "source": [
    "## Basic Plot"
   ]
  },
  {
   "cell_type": "code",
   "execution_count": null,
   "id": "bbd368bc",
   "metadata": {},
   "outputs": [],
   "source": [
    "basic_plot(df, city=selected_city, coord=selected_coordinates)"
   ]
  },
  {
   "cell_type": "markdown",
   "id": "ed821346",
   "metadata": {},
   "source": [
    "## Train time serie model and plot the forecast"
   ]
  },
  {
   "cell_type": "code",
   "execution_count": null,
   "id": "50dde71b",
   "metadata": {},
   "outputs": [],
   "source": [
    "model, train_df, test_df = train_model(df, date_col='time', temp_col='temperature')\n",
    "df_forecast, mae, rmse = make_predictions(model, test_df)\n",
    "plot_forecast(train_df=train_df,\n",
    "              test_df=test_df,\n",
    "              forecast=df_forecast,\n",
    "              city=selected_city,\n",
    "              coord=selected_coordinates,\n",
    "              verbose=True, save=False)\n",
    "print(f\"Mean Absolute Error: {mae:.2f}\")\n",
    "print(f\"Root Mean Squared Error: {rmse:.2f}\")"
   ]
  },
  {
   "cell_type": "markdown",
   "id": "59ba19e8",
   "metadata": {},
   "source": [
    "# European capital forecast visualization"
   ]
  },
  {
   "cell_type": "code",
   "execution_count": null,
   "id": "116a73ae",
   "metadata": {},
   "outputs": [],
   "source": [
    "from utils import create_map_with_forecast, cacheB_forecast_map"
   ]
  },
  {
   "cell_type": "code",
   "execution_count": null,
   "id": "f12630b7",
   "metadata": {},
   "outputs": [],
   "source": [
    "cacheB_forecast_map(config=config)"
   ]
  },
  {
   "cell_type": "code",
   "execution_count": null,
   "id": "5a151b8f",
   "metadata": {},
   "outputs": [],
   "source": [
    "m = create_map_with_forecast(capitals_coordinates=config[\"capital_coordinates\"],\n",
    "                             forecast_folder=config[\"output_folder\"],\n",
    "                             map_center=(48.8566, 2.3522),\n",
    "                             zoom=6,\n",
    "                             output_file='map.html')\n",
    "m"
   ]
  }
 ],
 "metadata": {
  "kernelspec": {
   "display_name": "Python 3 (ipykernel)",
   "language": "python",
   "name": "python3"
  },
  "language_info": {
   "codemirror_mode": {
    "name": "ipython",
    "version": 3
   },
   "file_extension": ".py",
   "mimetype": "text/x-python",
   "name": "python",
   "nbconvert_exporter": "python",
   "pygments_lexer": "ipython3",
   "version": "3.11.9"
  }
 },
 "nbformat": 4,
 "nbformat_minor": 5
}
